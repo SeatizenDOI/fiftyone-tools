{
 "cells": [
  {
   "cell_type": "markdown",
   "metadata": {},
   "source": [
    "IMPORT LIBRARIES"
   ]
  },
  {
   "cell_type": "code",
   "execution_count": null,
   "metadata": {},
   "outputs": [],
   "source": [
    "import fiftyone as fo\n",
    "from utils.custom_csv_multilabel_importer import CSVImageClassificationDatasetImporter\n",
    "import datetime\n",
    "import os\n",
    "from pathlib import Path\n",
    "import platform\n",
    "\n",
    "work_directory = os.getcwd()\n",
    "CSV_LABEL = Path(work_directory, \"labels_csv\", \"multilabel_annotations-df_multi.csv\")\n",
    "CSV_LABEL = Path(work_directory, \"labels_csv\", \"ml_anno.csv\")\n",
    "DATASET_DIR = Path(work_directory, \"dataset\", \"multilabel_complete_dataset\")\n",
    "CSV_EXPORT_DIR = Path(work_directory, \"export_csv\")\n",
    "IS_NEW_ARCHI = False\n",
    "\n",
    "# using now() to get current time\n",
    "current_time = datetime.datetime.now()\n",
    "\n",
    "dataset_name = 'multilabel_dataset1' + str(current_time.strftime(\"%Y%m%d_%H%M%S\"))\n",
    "\n",
    "print('Working more or less hard to get it done!')    \n",
    "\n",
    "### IMPORT MULTILABEL IMAGES AND ANNOTATIONS ###\n",
    "csv_importer = CSVImageClassificationDatasetImporter(\n",
    "    dataset_dir = DATASET_DIR,\n",
    "    csv_labels = CSV_LABEL,\n",
    "    isNewArchi=IS_NEW_ARCHI\n",
    ")"
   ]
  },
  {
   "cell_type": "code",
   "execution_count": null,
   "metadata": {},
   "outputs": [],
   "source": [
    "dataset = fo.Dataset.from_importer(\n",
    "    csv_importer, \n",
    "    name=dataset_name, \n",
    "    label_field='ground_truth_multilabel',\n",
    "    progress=True,\n",
    "    persistent=True # Persistent saved correction made on labels\n",
    ")"
   ]
  },
  {
   "cell_type": "code",
   "execution_count": null,
   "metadata": {},
   "outputs": [],
   "source": [
    "# Add year, month and day as primitive\n",
    "dataset.add_sample_field(\"year\", fo.IntField)\n",
    "dataset.add_sample_field(\"month\", fo.IntField)\n",
    "dataset.add_sample_field(\"day\", fo.IntField)\n",
    "\n",
    "for sample in dataset.iter_samples(progress=True):\n",
    "    date =  sample.filepath.split(\"\\\\\")[-1].split(\"_\")[0] if platform.platform() == \"Windows\" else sample.filepath.split(\"/\")[-1].split(\"_\")\n",
    "    sample.year = int(date[0:4]) if IS_NEW_ARCHI else int(date[1])\n",
    "    sample.month = int(date[4:6]) if IS_NEW_ARCHI else int(date[2])\n",
    "    sample.day = int(date[6:8]) if IS_NEW_ARCHI else int(date[3])\n",
    "    sample.save()"
   ]
  },
  {
   "cell_type": "code",
   "execution_count": null,
   "metadata": {},
   "outputs": [],
   "source": [
    "# Store labels in default_classes\n",
    "with open(CSV_LABEL, \"r\") as file:\n",
    "    for row in file:\n",
    "        if IS_NEW_ARCHI:\n",
    "            dataset.default_classes = row.replace(\"\\n\", \"\").split(',')[1:]\n",
    "        else:\n",
    "            dataset.default_classes = row.replace(\"\\n\", \"\").split(',')[2:]\n",
    "        break"
   ]
  },
  {
   "cell_type": "code",
   "execution_count": null,
   "metadata": {},
   "outputs": [],
   "source": [
    "session = fo.launch_app(dataset, auto=False)"
   ]
  },
  {
   "cell_type": "code",
   "execution_count": null,
   "metadata": {},
   "outputs": [],
   "source": [
    "from utils.custom_csv_multilabel_exporter import CSVImageClassificationDatasetExporter\n",
    "\n",
    "csv_exporter = CSVImageClassificationDatasetExporter(\n",
    "    export_dir=CSV_EXPORT_DIR,\n",
    "    dataset_name=dataset_name,\n",
    "    default_classes=dataset.default_classes\n",
    ")\n",
    "\n",
    "dataset.export(dataset_exporter=csv_exporter)"
   ]
  },
  {
   "cell_type": "markdown",
   "metadata": {},
   "source": []
  },
  {
   "cell_type": "markdown",
   "metadata": {},
   "source": [
    "# Delete all existing dataset"
   ]
  },
  {
   "cell_type": "code",
   "execution_count": 2,
   "metadata": {},
   "outputs": [],
   "source": [
    "import fiftyone as fo\n",
    "for dt in fo.list_datasets():\n",
    "    fo.delete_dataset(dt) "
   ]
  },
  {
   "cell_type": "markdown",
   "metadata": {},
   "source": [
    "# Saved the first dataset"
   ]
  },
  {
   "cell_type": "code",
   "execution_count": null,
   "metadata": {},
   "outputs": [],
   "source": [
    "from utils.custom_csv_multilabel_exporter import CSVImageClassificationDatasetExporter\n",
    "import fiftyone as fo\n",
    "import datetime\n",
    "\n",
    "CSV_EXPORT_DIR = Path(work_directory, \"export_csv\")\n",
    "\n",
    "dataset = fo.load_dataset(fo.list_datasets()[0])\n",
    "\n",
    "csv_exporter = CSVImageClassificationDatasetExporter(\n",
    "    export_dir=CSV_EXPORT_DIR,\n",
    "    dataset_name=str(datetime.datetime.now().strftime(\"%Y%m%d_%H%M%S\")),\n",
    "    default_classes=dataset.default_classes\n",
    ")\n",
    "\n",
    "dataset.export(dataset_exporter=csv_exporter)"
   ]
  },
  {
   "cell_type": "code",
   "execution_count": 3,
   "metadata": {},
   "outputs": [
    {
     "name": "stdout",
     "output_type": "stream",
     "text": [
      "Session launched. Run `session.show()` to open the App in a cell output.\n"
     ]
    }
   ],
   "source": [
    "import fiftyone as fo\n",
    "session = fo.launch_app(auto=False)"
   ]
  },
  {
   "cell_type": "code",
   "execution_count": 1,
   "metadata": {},
   "outputs": [
    {
     "name": "stdout",
     "output_type": "stream",
     "text": [
      "['20221021_ARM01_00', '20221021_SYC-aldabraDUBOIS_ASV-01_01', '20221022_SYC-aldabraARM06_ASV-01_01', '20221024_SYC-aldabraARM01_ASV-01_01', '20230908_REU-BOUCAN_ASV-1_01', '20230908_REU-BOUCAN_ASV-1_01_2', '20231019_REU-SAINTLEU_ASV-2_02', '20231108_REU-SAINTLEUPORT_ASV-2_02', '20231208_REU-SAINTLEU_ASV-1_01', '20240405_REU-TESSIER_ASV-1_01', 'test']\n"
     ]
    }
   ],
   "source": [
    "import fiftyone as fo\n",
    "print(fo.list_datasets())\n"
   ]
  }
 ],
 "metadata": {
  "kernelspec": {
   "display_name": "Python 3.9.13 ('plancha_software_tools_env')",
   "language": "python",
   "name": "python3"
  },
  "language_info": {
   "codemirror_mode": {
    "name": "ipython",
    "version": 3
   },
   "file_extension": ".py",
   "mimetype": "text/x-python",
   "name": "python",
   "nbconvert_exporter": "python",
   "pygments_lexer": "ipython3",
   "version": "3.9.18"
  },
  "vscode": {
   "interpreter": {
    "hash": "7b20f67ac57163f729ba8a2409d0360e2a907f3bf8090453212997d4dd527fca"
   }
  }
 },
 "nbformat": 4,
 "nbformat_minor": 4
}
