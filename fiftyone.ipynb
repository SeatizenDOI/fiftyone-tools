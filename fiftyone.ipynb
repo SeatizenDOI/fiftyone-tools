{
 "cells": [
  {
   "cell_type": "code",
   "execution_count": 1,
   "metadata": {},
   "outputs": [
    {
     "name": "stdout",
     "output_type": "stream",
     "text": [
      "Session launched. Run `session.show()` to open the App in a cell output.\n"
     ]
    }
   ],
   "source": [
    "# Launch fiftyone app\n",
    "\n",
    "import fiftyone as fo\n",
    "session = fo.launch_app(auto=False)"
   ]
  },
  {
   "cell_type": "code",
   "execution_count": null,
   "metadata": {},
   "outputs": [],
   "source": [
    "# Delete all dataset in fiftyone app\n",
    "\n",
    "import fiftyone as fo\n",
    "for dt in fo.list_datasets():\n",
    "    fo.delete_dataset(dt) "
   ]
  }
 ],
 "metadata": {
  "kernelspec": {
   "display_name": "fiftyone_env",
   "language": "python",
   "name": "python3"
  },
  "language_info": {
   "codemirror_mode": {
    "name": "ipython",
    "version": 3
   },
   "file_extension": ".py",
   "mimetype": "text/x-python",
   "name": "python",
   "nbconvert_exporter": "python",
   "pygments_lexer": "ipython3",
   "version": "3.9.18"
  }
 },
 "nbformat": 4,
 "nbformat_minor": 2
}
