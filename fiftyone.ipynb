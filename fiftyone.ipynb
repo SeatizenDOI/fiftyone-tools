{
 "cells": [
  {
   "cell_type": "code",
   "execution_count": null,
   "metadata": {},
   "outputs": [],
   "source": [
    "# Launch fiftyone app\n",
    "\n",
    "import fiftyone as fo\n",
    "session = fo.launch_app(auto=False)"
   ]
  },
  {
   "cell_type": "code",
   "execution_count": null,
   "metadata": {},
   "outputs": [],
   "source": [
    "# Delete all dataset in fiftyone app\n",
    "\n",
    "import fiftyone as fo\n",
    "for dt in fo.list_datasets():\n",
    "    fo.delete_dataset(dt) "
   ]
  }
 ],
 "metadata": {
  "kernelspec": {
   "display_name": "fiftyone_env",
   "language": "python",
   "name": "python3"
  },
  "language_info": {
   "name": "python",
   "version": "3.9.18"
  }
 },
 "nbformat": 4,
 "nbformat_minor": 2
}
